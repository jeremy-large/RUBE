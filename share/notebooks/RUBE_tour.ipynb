{
 "cells": [
  {
   "cell_type": "markdown",
   "id": "color-partner",
   "metadata": {
    "slideshow": {
     "slide_type": "slide"
    },
    "tags": []
   },
   "source": [
    "# Estimating large demand systems using jax\n",
    "\n",
    "Jeremy Large and Emmet Hall-Hoffarth"
   ]
  },
  {
   "cell_type": "code",
   "execution_count": null,
   "id": "israeli-scope",
   "metadata": {
    "slideshow": {
     "slide_type": "skip"
    },
    "tags": []
   },
   "outputs": [],
   "source": [
    "import os \n",
    "import sys\n",
    "# implement PYTHONPATH within script\n",
    "sys.path.insert(0, os.path.abspath('../../lib'))"
   ]
  },
  {
   "cell_type": "code",
   "execution_count": null,
   "id": "senior-cologne",
   "metadata": {
    "slideshow": {
     "slide_type": "skip"
    },
    "tags": []
   },
   "outputs": [],
   "source": [
    "import logging\n",
    "import warnings"
   ]
  },
  {
   "cell_type": "code",
   "execution_count": null,
   "id": "loaded-supplier",
   "metadata": {
    "slideshow": {
     "slide_type": "skip"
    },
    "tags": []
   },
   "outputs": [],
   "source": [
    "import numpy as np\n",
    "import pandas as pd\n",
    "import pylab as plt\n",
    "from sklearn import decomposition"
   ]
  },
  {
   "cell_type": "code",
   "execution_count": null,
   "id": "eight-national",
   "metadata": {
    "slideshow": {
     "slide_type": "skip"
    },
    "tags": []
   },
   "outputs": [],
   "source": [
    "warnings.simplefilter(\"ignore\")\n",
    "from rube.model.model import RubeJaxModel, load_params, positivize\n",
    "import rube.data.clean\n",
    "\n",
    "from rube.utils import nearest_neigbours\n",
    "from rube.model.model import save_embeddings_tsv\n",
    "from rube.data import uci"
   ]
  },
  {
   "cell_type": "code",
   "execution_count": null,
   "id": "according-candy",
   "metadata": {
    "slideshow": {
     "slide_type": "skip"
    },
    "tags": []
   },
   "outputs": [],
   "source": [
    "logging.basicConfig(format='%(asctime)s %(levelname)s:%(message)s', level=logging.INFO, force=True)"
   ]
  },
  {
   "cell_type": "markdown",
   "id": "soviet-ebony",
   "metadata": {
    "slideshow": {
     "slide_type": "slide"
    },
    "tags": []
   },
   "source": [
    "### Background\n",
    "\n",
    "We demonstrate code which can implement the algorithms in Lanier, Large and Quah (2022).\n",
    "\n",
    "The main way of running the code is in `/scripts/main.py`. However:"
   ]
  },
  {
   "cell_type": "code",
   "execution_count": null,
   "id": "lesser-request",
   "metadata": {},
   "outputs": [],
   "source": [
    "import jax\n",
    "import jax.numpy as jnp"
   ]
  },
  {
   "cell_type": "markdown",
   "id": "combined-little",
   "metadata": {
    "slideshow": {
     "slide_type": "slide"
    },
    "tags": []
   },
   "source": [
    "### Load retail dataset from UCI"
   ]
  },
  {
   "cell_type": "code",
   "execution_count": null,
   "id": "backed-spending",
   "metadata": {},
   "outputs": [],
   "source": [
    "MAX_QUANTITY = 6\n",
    "STOCK_VOCAB_SIZE = 2000\n",
    "USER_VOCAB_SIZE = 2200\n",
    "K = 12\n",
    "BATCH_SIZE = 1024\n",
    "NEGATIVE_SAMPLES = 99\n",
    "STEP_SIZE = 0.01\n",
    "TIMEPERIOD_LENGTH = 4  # weeks - the length of time applied to each seasonal dummy\n",
    "SEED = 42"
   ]
  },
  {
   "cell_type": "markdown",
   "id": "incredible-musical",
   "metadata": {
    "slideshow": {
     "slide_type": "subslide"
    },
    "tags": []
   },
   "source": [
    "Load data:"
   ]
  },
  {
   "cell_type": "code",
   "execution_count": null,
   "id": "ahead-sydney",
   "metadata": {},
   "outputs": [],
   "source": [
    "gen = uci.UCIGenerator(BATCH_SIZE, NEGATIVE_SAMPLES,\n",
    "                       max_accepted_quantity=MAX_QUANTITY,\n",
    "                       stock_vocab_size=STOCK_VOCAB_SIZE,\n",
    "                       user_vocab_size=USER_VOCAB_SIZE,\n",
    "                       period_in_weeks=TIMEPERIOD_LENGTH,\n",
    "                       save_raw=True)"
   ]
  },
  {
   "cell_type": "markdown",
   "id": "saving-lingerie",
   "metadata": {
    "slideshow": {
     "slide_type": "slide"
    },
    "tags": []
   },
   "source": [
    "Create a model:"
   ]
  },
  {
   "cell_type": "code",
   "execution_count": null,
   "id": "chubby-documentation",
   "metadata": {},
   "outputs": [],
   "source": [
    "model = RubeJaxModel(stock_vocab_size=len(gen.stock_vocab),\n",
    "                     user_vocab_size=gen.user_vocab_size,\n",
    "                     embedding_dim=K,\n",
    "                     n_periods=gen.get_n_periods(),\n",
    "                     step_size=STEP_SIZE,\n",
    "                     seed=SEED)"
   ]
  },
  {
   "cell_type": "markdown",
   "id": "presidential-indicator",
   "metadata": {},
   "source": [
    "### Now fit the model"
   ]
  },
  {
   "cell_type": "code",
   "execution_count": null,
   "id": "attractive-indicator",
   "metadata": {},
   "outputs": [],
   "source": [
    "N_EPOCHS = 150   # 50 is a bit low - it is set this way for the sake of a manageable notebook"
   ]
  },
  {
   "cell_type": "code",
   "execution_count": null,
   "id": "passive-click",
   "metadata": {},
   "outputs": [],
   "source": [
    "model.training_loop(gen, N_EPOCHS)"
   ]
  },
  {
   "cell_type": "markdown",
   "id": "accompanied-brighton",
   "metadata": {
    "slideshow": {
     "slide_type": "slide"
    },
    "tags": []
   },
   "source": [
    "### Results"
   ]
  },
  {
   "cell_type": "markdown",
   "id": "logical-oregon",
   "metadata": {},
   "source": [
    "Obtain the model's fitted parameters (and remove unnecessary minus-signs):"
   ]
  },
  {
   "cell_type": "code",
   "execution_count": null,
   "id": "sharp-architect",
   "metadata": {},
   "outputs": [],
   "source": [
    "params = positivize(load_params(model.params))"
   ]
  },
  {
   "cell_type": "markdown",
   "id": "veterinary-omega",
   "metadata": {
    "slideshow": {
     "slide_type": "subslide"
    },
    "tags": []
   },
   "source": [
    "Now visualize `d_1`:"
   ]
  },
  {
   "cell_type": "code",
   "execution_count": null,
   "id": "endless-recruitment",
   "metadata": {},
   "outputs": [],
   "source": [
    "_ = pd.DataFrame(params['d_1'].T, columns=['histogram of estimated d_1 across users']).plot.hist(bins=50 , figsize=(9, 6), fontsize=14, grid=True)"
   ]
  },
  {
   "cell_type": "markdown",
   "id": "complimentary-extent",
   "metadata": {
    "slideshow": {
     "slide_type": "subslide"
    },
    "tags": []
   },
   "source": [
    "Next look at `d_2`:"
   ]
  },
  {
   "cell_type": "code",
   "execution_count": null,
   "id": "documentary-fairy",
   "metadata": {
    "tags": []
   },
   "outputs": [],
   "source": [
    "_ = pd.DataFrame(params['d_2'].T, columns=['histogram of estimated d_2 across users']).plot.hist(bins=50 , figsize=(9, 6), fontsize=14, grid=True)"
   ]
  },
  {
   "cell_type": "code",
   "execution_count": null,
   "id": "nominated-spain",
   "metadata": {
    "slideshow": {
     "slide_type": "subslide"
    },
    "tags": []
   },
   "outputs": [],
   "source": [
    "_ = pd.DataFrame(params['d_3'].T, columns=['histogram of estimated d_3 across users']).plot.hist(bins=100, grid=True, figsize=(9, 6), fontsize=14)"
   ]
  },
  {
   "cell_type": "markdown",
   "id": "constant-japan",
   "metadata": {
    "slideshow": {
     "slide_type": "slide"
    },
    "tags": []
   },
   "source": [
    "We can examine correlations in the `b` matrix recording user preferences across latent dimensions:"
   ]
  },
  {
   "cell_type": "code",
   "execution_count": null,
   "id": "little-abortion",
   "metadata": {},
   "outputs": [],
   "source": [
    "b = pd.DataFrame(params['b'])\n",
    "_ = pd.plotting.scatter_matrix(b.T, alpha=0.2, figsize=(12, 12), color='g', diagonal=\"kde\")"
   ]
  },
  {
   "cell_type": "code",
   "execution_count": null,
   "id": "known-comfort",
   "metadata": {},
   "outputs": [],
   "source": [
    "b = pd.DataFrame(params['b'])\n",
    "_ = pd.plotting.scatter_matrix(b[:4].T, alpha=0.2, figsize=(8, 8), color='g', diagonal=\"kde\")"
   ]
  },
  {
   "cell_type": "markdown",
   "id": "coordinate-plant",
   "metadata": {},
   "source": [
    "We can also examine correlations in the `A` matrix, which records stock-items' features, across latent dimensions:"
   ]
  },
  {
   "cell_type": "code",
   "execution_count": null,
   "id": "everyday-czech",
   "metadata": {
    "slideshow": {
     "slide_type": "slide"
    },
    "tags": []
   },
   "outputs": [],
   "source": [
    "A = pd.DataFrame(params['A'])\n",
    "_ = pd.plotting.scatter_matrix(A[:5000], alpha=0.2, figsize=(12, 12), color='k', diagonal=\"kde\")"
   ]
  },
  {
   "cell_type": "markdown",
   "id": "paperback-cancer",
   "metadata": {},
   "source": [
    "Note the special behaviour of the first dimension, along which values are constrained positive. This dimension has a particular interpretation that is related to price sensitivity."
   ]
  },
  {
   "cell_type": "code",
   "execution_count": null,
   "id": "affiliated-karen",
   "metadata": {
    "slideshow": {
     "slide_type": "subslide"
    },
    "tags": []
   },
   "outputs": [],
   "source": [
    "pca = decomposition.PCA(n_components=A.shape[1])\n",
    "pca.fit(params['A'])\n",
    "_title = 'Deviation in A explained by each principal component'\n",
    "to_plot = pd.DataFrame((pca.explained_variance_ratio_), columns=['explained proportion of variance (counting components from 0 up)'])\n",
    "_ = to_plot.plot(grid=True, title=_title, figsize=(9, 6), fontsize=14, marker='o', xticks=range(12))\n",
    "plt.axhline(color='k'); _ = plt.axvline(color='k')"
   ]
  },
  {
   "cell_type": "markdown",
   "id": "specified-coupon",
   "metadata": {
    "slideshow": {
     "slide_type": "subslide"
    },
    "tags": []
   },
   "source": [
    "Save results for further assessments:"
   ]
  },
  {
   "cell_type": "code",
   "execution_count": null,
   "id": "skilled-wichita",
   "metadata": {},
   "outputs": [],
   "source": [
    "save_embeddings_tsv(params, gen)\n",
    "vocab = pd.DataFrame(list(gen.stock_vocab), columns=['StockCode'])"
   ]
  },
  {
   "cell_type": "markdown",
   "id": "eastern-brass",
   "metadata": {
    "slideshow": {
     "slide_type": "slide"
    },
    "tags": []
   },
   "source": [
    "### Price sensitivity"
   ]
  },
  {
   "cell_type": "markdown",
   "id": "choice-entertainment",
   "metadata": {},
   "source": [
    "Lets do a simple-minded study of price sensitivities:"
   ]
  },
  {
   "cell_type": "code",
   "execution_count": null,
   "id": "adapted-belief",
   "metadata": {},
   "outputs": [],
   "source": [
    "desc_lookup = gen.raw_data[['Description', 'product_token']].groupby('product_token').max()"
   ]
  },
  {
   "cell_type": "code",
   "execution_count": null,
   "id": "alike-track",
   "metadata": {},
   "outputs": [],
   "source": [
    "sensitivities = vocab.join(pd.DataFrame(params['A'][:,0])).sort_values(0, ascending=False).join(desc_lookup)"
   ]
  },
  {
   "cell_type": "markdown",
   "id": "prostate-carroll",
   "metadata": {},
   "source": [
    "Items where consumers exhibit the greatest price sensitivity:"
   ]
  },
  {
   "cell_type": "code",
   "execution_count": null,
   "id": "secure-contemporary",
   "metadata": {},
   "outputs": [],
   "source": [
    "sensitivities.head(10)"
   ]
  },
  {
   "cell_type": "markdown",
   "id": "thorough-forestry",
   "metadata": {
    "slideshow": {
     "slide_type": "subslide"
    },
    "tags": []
   },
   "source": [
    "Items (drawn normally from quite a tightly-packed field) where consumers exhibit the least price sensitivity:"
   ]
  },
  {
   "cell_type": "code",
   "execution_count": null,
   "id": "still-standing",
   "metadata": {},
   "outputs": [],
   "source": [
    "sensitivities.tail(10)"
   ]
  },
  {
   "cell_type": "code",
   "execution_count": null,
   "id": "disabled-tiger",
   "metadata": {},
   "outputs": [],
   "source": []
  }
 ],
 "metadata": {
  "kernelspec": {
   "display_name": "Python 3",
   "language": "python",
   "name": "python3"
  },
  "language_info": {
   "codemirror_mode": {
    "name": "ipython",
    "version": 3
   },
   "file_extension": ".py",
   "mimetype": "text/x-python",
   "name": "python",
   "nbconvert_exporter": "python",
   "pygments_lexer": "ipython3",
   "version": "3.8.8"
  },
  "toc-showtags": true
 },
 "nbformat": 4,
 "nbformat_minor": 5
}
